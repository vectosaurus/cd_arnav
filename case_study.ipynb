{
 "cells": [
  {
   "cell_type": "markdown",
   "id": "3361b7c7",
   "metadata": {},
   "source": [
    "# Admission Model "
   ]
  },
  {
   "cell_type": "code",
   "execution_count": 29,
   "id": "360cbed2",
   "metadata": {
    "ExecuteTime": {
     "end_time": "2021-05-17T07:15:54.451490Z",
     "start_time": "2021-05-17T07:15:54.215280Z"
    }
   },
   "outputs": [
    {
     "name": "stderr",
     "output_type": "stream",
     "text": [
      "/usr/local/lib/python3.8/site-packages/IPython/core/interactiveshell.py:3165: DtypeWarning: Columns (11) have mixed types.Specify dtype option on import or set low_memory=False.\n",
      "  has_raised = await self.run_ast_nodes(code_ast.body, cell_name,\n"
     ]
    }
   ],
   "source": [
    "import pandas as pd\n",
    "df = pd.read_csv('/Users/shubhamgandhi/Downloads/case_study_cleaned_data.csv')"
   ]
  },
  {
   "cell_type": "code",
   "execution_count": 30,
   "id": "1cf58c1f",
   "metadata": {
    "ExecuteTime": {
     "end_time": "2021-05-17T07:15:54.456569Z",
     "start_time": "2021-05-17T07:15:54.453550Z"
    }
   },
   "outputs": [
    {
     "data": {
      "text/plain": [
       "(92338, 17)"
      ]
     },
     "execution_count": 30,
     "metadata": {},
     "output_type": "execute_result"
    }
   ],
   "source": [
    "df.shape"
   ]
  },
  {
   "cell_type": "code",
   "execution_count": 31,
   "id": "48307888",
   "metadata": {
    "ExecuteTime": {
     "end_time": "2021-05-17T07:15:54.571070Z",
     "start_time": "2021-05-17T07:15:54.567162Z"
    }
   },
   "outputs": [
    {
     "data": {
      "text/plain": [
       "Index(['Student ID', 'Student Name', 'Entry Date', 'Last Activity Date',\n",
       "       'Latest Response', 'Department', 'Area of Study', 'No Email sent',\n",
       "       'No SMS sent', 'Total Calls', 'State', 'City', 'Last exam taken',\n",
       "       'Fee Range ', 'Admission Status', 'OTP Verification', 'Source '],\n",
       "      dtype='object')"
      ]
     },
     "execution_count": 31,
     "metadata": {},
     "output_type": "execute_result"
    }
   ],
   "source": [
    "df.columns"
   ]
  },
  {
   "cell_type": "code",
   "execution_count": 32,
   "id": "ad6c5b05",
   "metadata": {
    "ExecuteTime": {
     "end_time": "2021-05-17T07:15:54.766594Z",
     "start_time": "2021-05-17T07:15:54.748445Z"
    }
   },
   "outputs": [
    {
     "data": {
      "text/html": [
       "<div>\n",
       "<style scoped>\n",
       "    .dataframe tbody tr th:only-of-type {\n",
       "        vertical-align: middle;\n",
       "    }\n",
       "\n",
       "    .dataframe tbody tr th {\n",
       "        vertical-align: top;\n",
       "    }\n",
       "\n",
       "    .dataframe thead th {\n",
       "        text-align: right;\n",
       "    }\n",
       "</style>\n",
       "<table border=\"1\" class=\"dataframe\">\n",
       "  <thead>\n",
       "    <tr style=\"text-align: right;\">\n",
       "      <th></th>\n",
       "      <th>Student ID</th>\n",
       "      <th>Student Name</th>\n",
       "      <th>Entry Date</th>\n",
       "      <th>Last Activity Date</th>\n",
       "      <th>Latest Response</th>\n",
       "      <th>Department</th>\n",
       "      <th>Area of Study</th>\n",
       "      <th>No Email sent</th>\n",
       "      <th>No SMS sent</th>\n",
       "      <th>Total Calls</th>\n",
       "      <th>State</th>\n",
       "      <th>City</th>\n",
       "      <th>Last exam taken</th>\n",
       "      <th>Fee Range</th>\n",
       "      <th>Admission Status</th>\n",
       "      <th>OTP Verification</th>\n",
       "      <th>Source</th>\n",
       "    </tr>\n",
       "  </thead>\n",
       "  <tbody>\n",
       "    <tr>\n",
       "      <th>0</th>\n",
       "      <td>1</td>\n",
       "      <td>Manikanta mk</td>\n",
       "      <td>04-04-2020 16:57</td>\n",
       "      <td>11-05-2020 17:26</td>\n",
       "      <td>General Enquiry</td>\n",
       "      <td>Mathematics,</td>\n",
       "      <td>Sciences and Mathematics</td>\n",
       "      <td>0</td>\n",
       "      <td>2</td>\n",
       "      <td>2</td>\n",
       "      <td>Karnataka</td>\n",
       "      <td>Bangalore</td>\n",
       "      <td>NaN</td>\n",
       "      <td>NaN</td>\n",
       "      <td>Done</td>\n",
       "      <td>Yes</td>\n",
       "      <td>Online portal</td>\n",
       "    </tr>\n",
       "    <tr>\n",
       "      <th>1</th>\n",
       "      <td>2</td>\n",
       "      <td>SAMEEKSHA PAI</td>\n",
       "      <td>14-04-2020 15:09</td>\n",
       "      <td>11-05-2020 17:18</td>\n",
       "      <td>Non Relevent</td>\n",
       "      <td>Civil Engineering,</td>\n",
       "      <td>Engineering</td>\n",
       "      <td>0</td>\n",
       "      <td>2</td>\n",
       "      <td>5</td>\n",
       "      <td>Karnataka</td>\n",
       "      <td>Bangalore</td>\n",
       "      <td>NaN</td>\n",
       "      <td>NaN</td>\n",
       "      <td>Done</td>\n",
       "      <td>-</td>\n",
       "      <td>Digital Ad</td>\n",
       "    </tr>\n",
       "    <tr>\n",
       "      <th>2</th>\n",
       "      <td>3</td>\n",
       "      <td>Mariyamol stephen</td>\n",
       "      <td>28-02-2020 23:03</td>\n",
       "      <td>11-05-2020 17:20</td>\n",
       "      <td>Not Interested</td>\n",
       "      <td>Nursing,</td>\n",
       "      <td>Nursing</td>\n",
       "      <td>0</td>\n",
       "      <td>2</td>\n",
       "      <td>2</td>\n",
       "      <td>Karnataka</td>\n",
       "      <td>Bangalore</td>\n",
       "      <td>NaN</td>\n",
       "      <td>NaN</td>\n",
       "      <td>Done</td>\n",
       "      <td>-</td>\n",
       "      <td>Online portal</td>\n",
       "    </tr>\n",
       "    <tr>\n",
       "      <th>3</th>\n",
       "      <td>4</td>\n",
       "      <td>Maheswarareddy</td>\n",
       "      <td>23-03-2020 21:46</td>\n",
       "      <td>11-05-2020 17:30</td>\n",
       "      <td>Call Disconnected</td>\n",
       "      <td>Journalism,</td>\n",
       "      <td>Journalism</td>\n",
       "      <td>0</td>\n",
       "      <td>2</td>\n",
       "      <td>2</td>\n",
       "      <td>Karnataka</td>\n",
       "      <td>Bangalore</td>\n",
       "      <td>NaN</td>\n",
       "      <td>NaN</td>\n",
       "      <td>Done</td>\n",
       "      <td>-</td>\n",
       "      <td>Online portal</td>\n",
       "    </tr>\n",
       "    <tr>\n",
       "      <th>4</th>\n",
       "      <td>5</td>\n",
       "      <td>amarnath</td>\n",
       "      <td>05-05-2020 18:08</td>\n",
       "      <td>11-05-2020 17:13</td>\n",
       "      <td>Non Relevent</td>\n",
       "      <td>Computer Application,</td>\n",
       "      <td>Computer Application</td>\n",
       "      <td>0</td>\n",
       "      <td>2</td>\n",
       "      <td>2</td>\n",
       "      <td>Karnataka</td>\n",
       "      <td>Bangalore</td>\n",
       "      <td>NaN</td>\n",
       "      <td>NaN</td>\n",
       "      <td>Done</td>\n",
       "      <td>-</td>\n",
       "      <td>Online portal</td>\n",
       "    </tr>\n",
       "  </tbody>\n",
       "</table>\n",
       "</div>"
      ],
      "text/plain": [
       "   Student ID       Student Name        Entry Date Last Activity Date  \\\n",
       "0           1       Manikanta mk  04-04-2020 16:57   11-05-2020 17:26   \n",
       "1           2      SAMEEKSHA PAI  14-04-2020 15:09   11-05-2020 17:18   \n",
       "2           3  Mariyamol stephen  28-02-2020 23:03   11-05-2020 17:20   \n",
       "3           4     Maheswarareddy  23-03-2020 21:46   11-05-2020 17:30   \n",
       "4           5           amarnath  05-05-2020 18:08   11-05-2020 17:13   \n",
       "\n",
       "     Latest Response             Department             Area of Study  \\\n",
       "0    General Enquiry           Mathematics,  Sciences and Mathematics   \n",
       "1       Non Relevent     Civil Engineering,               Engineering   \n",
       "2     Not Interested               Nursing,                   Nursing   \n",
       "3  Call Disconnected            Journalism,                Journalism   \n",
       "4       Non Relevent  Computer Application,      Computer Application   \n",
       "\n",
       "   No Email sent  No SMS sent  Total Calls      State       City  \\\n",
       "0              0            2            2  Karnataka  Bangalore   \n",
       "1              0            2            5  Karnataka  Bangalore   \n",
       "2              0            2            2  Karnataka  Bangalore   \n",
       "3              0            2            2  Karnataka  Bangalore   \n",
       "4              0            2            2  Karnataka  Bangalore   \n",
       "\n",
       "  Last exam taken Fee Range  Admission Status OTP Verification        Source   \n",
       "0             NaN        NaN             Done              Yes  Online portal  \n",
       "1             NaN        NaN             Done                -     Digital Ad  \n",
       "2             NaN        NaN             Done                -  Online portal  \n",
       "3             NaN        NaN             Done                -  Online portal  \n",
       "4             NaN        NaN             Done                -  Online portal  "
      ]
     },
     "execution_count": 32,
     "metadata": {},
     "output_type": "execute_result"
    }
   ],
   "source": [
    "df.head()"
   ]
  },
  {
   "cell_type": "markdown",
   "id": "f559e618",
   "metadata": {},
   "source": [
    "## Convert columns to lower case and remove spaces"
   ]
  },
  {
   "cell_type": "code",
   "execution_count": 33,
   "id": "1595d7b1",
   "metadata": {
    "ExecuteTime": {
     "end_time": "2021-05-17T07:15:55.104317Z",
     "start_time": "2021-05-17T07:15:55.099509Z"
    }
   },
   "outputs": [
    {
     "name": "stdout",
     "output_type": "stream",
     "text": [
      "columns names before processing Index(['Student ID', 'Student Name', 'Entry Date', 'Last Activity Date',\n",
      "       'Latest Response', 'Department', 'Area of Study', 'No Email sent',\n",
      "       'No SMS sent', 'Total Calls', 'State', 'City', 'Last exam taken',\n",
      "       'Fee Range ', 'Admission Status', 'OTP Verification', 'Source '],\n",
      "      dtype='object')\n",
      "================================================================================\n",
      "columns names after processing Index(['student_id', 'student_name', 'entry_date', 'last_activity_date',\n",
      "       'latest_response', 'department', 'area_of_study', 'no_email_sent',\n",
      "       'no_sms_sent', 'total_calls', 'state', 'city', 'last_exam_taken',\n",
      "       'fee_range', 'admission_status', 'otp_verification', 'source'],\n",
      "      dtype='object')\n"
     ]
    }
   ],
   "source": [
    "print('columns names before processing', df.columns)\n",
    "df.columns = ['_'.join(i.strip().lower().split()) for i in df.columns]\n",
    "print(\"=\"*80)\n",
    "print('columns names after processing', df.columns)"
   ]
  },
  {
   "cell_type": "markdown",
   "id": "49f4c024",
   "metadata": {},
   "source": [
    "## Null values"
   ]
  },
  {
   "cell_type": "code",
   "execution_count": 34,
   "id": "4faa0b34",
   "metadata": {
    "ExecuteTime": {
     "end_time": "2021-05-17T07:15:56.244496Z",
     "start_time": "2021-05-17T07:15:56.192097Z"
    },
    "scrolled": true
   },
   "outputs": [
    {
     "data": {
      "text/plain": [
       "student_id                0\n",
       "student_name              0\n",
       "entry_date                0\n",
       "last_activity_date        0\n",
       "latest_response        3801\n",
       "department                0\n",
       "area_of_study             0\n",
       "no_email_sent             0\n",
       "no_sms_sent               0\n",
       "total_calls               0\n",
       "state                   129\n",
       "city                  70976\n",
       "last_exam_taken       64657\n",
       "fee_range             12589\n",
       "admission_status          0\n",
       "otp_verification          0\n",
       "source                    0\n",
       "dtype: int64"
      ]
     },
     "execution_count": 34,
     "metadata": {},
     "output_type": "execute_result"
    }
   ],
   "source": [
    "df.isnull().sum()"
   ]
  },
  {
   "cell_type": "code",
   "execution_count": 36,
   "id": "9dc5332e",
   "metadata": {
    "ExecuteTime": {
     "end_time": "2021-05-17T07:16:08.149980Z",
     "start_time": "2021-05-17T07:16:08.076771Z"
    }
   },
   "outputs": [
    {
     "name": "stdout",
     "output_type": "stream",
     "text": [
      "df size before dropping high NA value columns (92338, 17)\n",
      "df size after dropping high NA value columns (92338, 15)\n",
      "df size without any null values (76171, 15)\n"
     ]
    }
   ],
   "source": [
    "drop_cols = ['city', 'last_exam_taken']\n",
    "na_cols = ['latest_response', 'state', 'fee_range']\n",
    "print('df size before dropping high NA value columns',df.shape)\n",
    "df.drop(drop_cols, inplace=True, axis=1)\n",
    "print('df size after dropping high NA value columns',df.shape)\n",
    "print('df size without any null values', df.dropna().shape)"
   ]
  },
  {
   "cell_type": "code",
   "execution_count": 37,
   "id": "a494844a",
   "metadata": {
    "ExecuteTime": {
     "end_time": "2021-05-17T07:17:05.038559Z",
     "start_time": "2021-05-17T07:17:04.985736Z"
    }
   },
   "outputs": [
    {
     "name": "stdout",
     "output_type": "stream",
     "text": [
      "(76171, 15)\n"
     ]
    }
   ],
   "source": [
    "df.dropna(inplace=True)\n",
    "df.reset_index(drop=True)\n",
    "print(df.shape)"
   ]
  },
  {
   "cell_type": "markdown",
   "id": "787aba99",
   "metadata": {},
   "source": [
    "## Create admission flag"
   ]
  },
  {
   "cell_type": "code",
   "execution_count": 43,
   "id": "45f5f4d9",
   "metadata": {
    "ExecuteTime": {
     "end_time": "2021-05-17T07:22:03.258804Z",
     "start_time": "2021-05-17T07:22:03.217386Z"
    }
   },
   "outputs": [],
   "source": [
    "df.loc[df.admission_status=='Done', 'admission_flag'] = 1\n",
    "df.loc[df.admission_status!='Done', 'admission_flag'] = 0"
   ]
  },
  {
   "cell_type": "code",
   "execution_count": 44,
   "id": "649f95fb",
   "metadata": {
    "ExecuteTime": {
     "end_time": "2021-05-17T07:22:03.817854Z",
     "start_time": "2021-05-17T07:22:03.810287Z"
    }
   },
   "outputs": [
    {
     "data": {
      "text/plain": [
       "0.0    55865\n",
       "1.0    20306\n",
       "Name: admission_flag, dtype: int64"
      ]
     },
     "execution_count": 44,
     "metadata": {},
     "output_type": "execute_result"
    }
   ],
   "source": [
    "df.admission_flag.value_counts()"
   ]
  },
  {
   "cell_type": "code",
   "execution_count": 45,
   "id": "5e70c69e",
   "metadata": {
    "ExecuteTime": {
     "end_time": "2021-05-17T07:22:16.356864Z",
     "start_time": "2021-05-17T07:22:16.345223Z"
    }
   },
   "outputs": [
    {
     "data": {
      "text/plain": [
       "-       55865\n",
       "Done    20306\n",
       "Name: admission_status, dtype: int64"
      ]
     },
     "execution_count": 45,
     "metadata": {},
     "output_type": "execute_result"
    }
   ],
   "source": [
    "df.admission_status.value_counts()"
   ]
  },
  {
   "cell_type": "markdown",
   "id": "b8017ea6",
   "metadata": {},
   "source": [
    "# Feature eng"
   ]
  },
  {
   "cell_type": "markdown",
   "id": "41623f9e",
   "metadata": {},
   "source": [
    "## create variables"
   ]
  },
  {
   "cell_type": "markdown",
   "id": "ddc7b490",
   "metadata": {},
   "source": [
    "### Month of entry date"
   ]
  },
  {
   "cell_type": "code",
   "execution_count": 38,
   "id": "33ae370e",
   "metadata": {
    "ExecuteTime": {
     "end_time": "2021-05-17T07:17:10.005417Z",
     "start_time": "2021-05-17T07:17:09.999055Z"
    }
   },
   "outputs": [
    {
     "data": {
      "text/plain": [
       "13    09-05-2020 15:35\n",
       "14    08-05-2020 19:39\n",
       "15    10-03-2020 18:58\n",
       "17    24-03-2020 20:00\n",
       "18    11-03-2020 22:25\n",
       "Name: entry_date, dtype: object"
      ]
     },
     "execution_count": 38,
     "metadata": {},
     "output_type": "execute_result"
    }
   ],
   "source": [
    "df.entry_date.head(5)"
   ]
  },
  {
   "cell_type": "markdown",
   "id": "26102d02",
   "metadata": {},
   "source": [
    "<b><p style=\"font-size:20px\">Convert `entry_date` to date time format</p></b>"
   ]
  },
  {
   "cell_type": "code",
   "execution_count": 40,
   "id": "bd63a86a",
   "metadata": {
    "ExecuteTime": {
     "end_time": "2021-05-17T07:20:29.179467Z",
     "start_time": "2021-05-17T07:20:23.414048Z"
    }
   },
   "outputs": [
    {
     "data": {
      "text/plain": [
       "13   2020-09-05 15:35:00\n",
       "14   2020-08-05 19:39:00\n",
       "15   2020-10-03 18:58:00\n",
       "17   2020-03-24 20:00:00\n",
       "18   2020-11-03 22:25:00\n",
       "Name: entry_date, dtype: datetime64[ns]"
      ]
     },
     "execution_count": 40,
     "metadata": {},
     "output_type": "execute_result"
    }
   ],
   "source": [
    "\n",
    "df.entry_date = pd.to_datetime(df.entry_date)\n",
    "df.entry_date.dtype\n",
    "df.entry_date.head(5)"
   ]
  },
  {
   "cell_type": "markdown",
   "id": "40f1b6d0",
   "metadata": {},
   "source": [
    "<b><p style=\"font-size:20px\">Create month column from `entry_date`</p></b>"
   ]
  },
  {
   "cell_type": "code",
   "execution_count": 41,
   "id": "12ded5fd",
   "metadata": {
    "ExecuteTime": {
     "end_time": "2021-05-17T07:20:29.598930Z",
     "start_time": "2021-05-17T07:20:29.181870Z"
    }
   },
   "outputs": [
    {
     "data": {
      "text/html": [
       "<div>\n",
       "<style scoped>\n",
       "    .dataframe tbody tr th:only-of-type {\n",
       "        vertical-align: middle;\n",
       "    }\n",
       "\n",
       "    .dataframe tbody tr th {\n",
       "        vertical-align: top;\n",
       "    }\n",
       "\n",
       "    .dataframe thead th {\n",
       "        text-align: right;\n",
       "    }\n",
       "</style>\n",
       "<table border=\"1\" class=\"dataframe\">\n",
       "  <thead>\n",
       "    <tr style=\"text-align: right;\">\n",
       "      <th></th>\n",
       "      <th>student_id</th>\n",
       "      <th>student_name</th>\n",
       "      <th>entry_date</th>\n",
       "      <th>last_activity_date</th>\n",
       "      <th>latest_response</th>\n",
       "      <th>department</th>\n",
       "      <th>area_of_study</th>\n",
       "      <th>no_email_sent</th>\n",
       "      <th>no_sms_sent</th>\n",
       "      <th>total_calls</th>\n",
       "      <th>state</th>\n",
       "      <th>fee_range</th>\n",
       "      <th>admission_status</th>\n",
       "      <th>otp_verification</th>\n",
       "      <th>source</th>\n",
       "      <th>entry_month</th>\n",
       "    </tr>\n",
       "  </thead>\n",
       "  <tbody>\n",
       "    <tr>\n",
       "      <th>13</th>\n",
       "      <td>14</td>\n",
       "      <td>Thangaraju</td>\n",
       "      <td>2020-09-05 15:35:00</td>\n",
       "      <td>11-05-2020 17:12</td>\n",
       "      <td>Not Interested</td>\n",
       "      <td>B.E. Engineering,</td>\n",
       "      <td>Engineering</td>\n",
       "      <td>0</td>\n",
       "      <td>2</td>\n",
       "      <td>2</td>\n",
       "      <td>Karnataka</td>\n",
       "      <td>Fee no barrier</td>\n",
       "      <td>-</td>\n",
       "      <td>-</td>\n",
       "      <td>Online portal</td>\n",
       "      <td>Sep</td>\n",
       "    </tr>\n",
       "    <tr>\n",
       "      <th>14</th>\n",
       "      <td>15</td>\n",
       "      <td>Yashwanth ks</td>\n",
       "      <td>2020-08-05 19:39:00</td>\n",
       "      <td>11-05-2020 17:12</td>\n",
       "      <td>Not Interested</td>\n",
       "      <td>B.E. Engineering,</td>\n",
       "      <td>Engineering</td>\n",
       "      <td>0</td>\n",
       "      <td>2</td>\n",
       "      <td>3</td>\n",
       "      <td>Karnataka</td>\n",
       "      <td>Fee no barrier</td>\n",
       "      <td>-</td>\n",
       "      <td>-</td>\n",
       "      <td>Online portal</td>\n",
       "      <td>Aug</td>\n",
       "    </tr>\n",
       "    <tr>\n",
       "      <th>15</th>\n",
       "      <td>16</td>\n",
       "      <td>ANU EP</td>\n",
       "      <td>2020-10-03 18:58:00</td>\n",
       "      <td>11-05-2020 17:25</td>\n",
       "      <td>Not Interested</td>\n",
       "      <td>Journalism,</td>\n",
       "      <td>Journalism</td>\n",
       "      <td>0</td>\n",
       "      <td>2</td>\n",
       "      <td>2</td>\n",
       "      <td>Karnataka</td>\n",
       "      <td>Fee no barrier</td>\n",
       "      <td>Done</td>\n",
       "      <td>-</td>\n",
       "      <td>Online portal</td>\n",
       "      <td>Oct</td>\n",
       "    </tr>\n",
       "    <tr>\n",
       "      <th>17</th>\n",
       "      <td>18</td>\n",
       "      <td>Aleesha Babu</td>\n",
       "      <td>2020-03-24 20:00:00</td>\n",
       "      <td>01-09-2020 11:54</td>\n",
       "      <td>Admit in CU</td>\n",
       "      <td>Nursing,</td>\n",
       "      <td>Nursing</td>\n",
       "      <td>0</td>\n",
       "      <td>2</td>\n",
       "      <td>3</td>\n",
       "      <td>Karnataka</td>\n",
       "      <td>Fee no barrier</td>\n",
       "      <td>Done</td>\n",
       "      <td>-</td>\n",
       "      <td>Emailer</td>\n",
       "      <td>Mar</td>\n",
       "    </tr>\n",
       "    <tr>\n",
       "      <th>18</th>\n",
       "      <td>19</td>\n",
       "      <td>Mjhammed cm</td>\n",
       "      <td>2020-11-03 22:25:00</td>\n",
       "      <td>11-05-2020 17:27</td>\n",
       "      <td>Switch Off</td>\n",
       "      <td>Computer Science,</td>\n",
       "      <td>Engineering</td>\n",
       "      <td>0</td>\n",
       "      <td>2</td>\n",
       "      <td>11</td>\n",
       "      <td>Karnataka</td>\n",
       "      <td>Fee no barrier</td>\n",
       "      <td>Done</td>\n",
       "      <td>Yes</td>\n",
       "      <td>Online portal</td>\n",
       "      <td>Nov</td>\n",
       "    </tr>\n",
       "  </tbody>\n",
       "</table>\n",
       "</div>"
      ],
      "text/plain": [
       "    student_id  student_name          entry_date last_activity_date  \\\n",
       "13          14    Thangaraju 2020-09-05 15:35:00   11-05-2020 17:12   \n",
       "14          15  Yashwanth ks 2020-08-05 19:39:00   11-05-2020 17:12   \n",
       "15          16        ANU EP 2020-10-03 18:58:00   11-05-2020 17:25   \n",
       "17          18  Aleesha Babu 2020-03-24 20:00:00   01-09-2020 11:54   \n",
       "18          19   Mjhammed cm 2020-11-03 22:25:00   11-05-2020 17:27   \n",
       "\n",
       "   latest_response         department area_of_study  no_email_sent  \\\n",
       "13  Not Interested  B.E. Engineering,   Engineering              0   \n",
       "14  Not Interested  B.E. Engineering,   Engineering              0   \n",
       "15  Not Interested        Journalism,    Journalism              0   \n",
       "17     Admit in CU           Nursing,       Nursing              0   \n",
       "18      Switch Off  Computer Science,   Engineering              0   \n",
       "\n",
       "    no_sms_sent  total_calls      state       fee_range admission_status  \\\n",
       "13            2            2  Karnataka  Fee no barrier                -   \n",
       "14            2            3  Karnataka  Fee no barrier                -   \n",
       "15            2            2  Karnataka  Fee no barrier             Done   \n",
       "17            2            3  Karnataka  Fee no barrier             Done   \n",
       "18            2           11  Karnataka  Fee no barrier             Done   \n",
       "\n",
       "   otp_verification         source entry_month  \n",
       "13                -  Online portal         Sep  \n",
       "14                -  Online portal         Aug  \n",
       "15                -  Online portal         Oct  \n",
       "17                -        Emailer         Mar  \n",
       "18              Yes  Online portal         Nov  "
      ]
     },
     "execution_count": 41,
     "metadata": {},
     "output_type": "execute_result"
    }
   ],
   "source": [
    "df.loc[:, 'entry_month'] = df.entry_date.dt.strftime(\"%b\")\n",
    "df.head(5)"
   ]
  },
  {
   "cell_type": "code",
   "execution_count": 46,
   "id": "ab90d2c6",
   "metadata": {
    "ExecuteTime": {
     "end_time": "2021-05-17T07:38:57.442596Z",
     "start_time": "2021-05-17T07:38:57.438403Z"
    }
   },
   "outputs": [
    {
     "data": {
      "text/plain": [
       "student_id                     int64\n",
       "student_name                  object\n",
       "entry_date            datetime64[ns]\n",
       "last_activity_date            object\n",
       "latest_response               object\n",
       "department                    object\n",
       "area_of_study                 object\n",
       "no_email_sent                  int64\n",
       "no_sms_sent                    int64\n",
       "total_calls                    int64\n",
       "state                         object\n",
       "fee_range                     object\n",
       "admission_status              object\n",
       "otp_verification              object\n",
       "source                        object\n",
       "entry_month                   object\n",
       "admission_flag               float64\n",
       "dtype: object"
      ]
     },
     "execution_count": 46,
     "metadata": {},
     "output_type": "execute_result"
    }
   ],
   "source": [
    "df.dtypes"
   ]
  },
  {
   "cell_type": "markdown",
   "id": "56538046",
   "metadata": {},
   "source": [
    "<b><p style=\"font-size:20px\">Correct levels of `department`</p></b>"
   ]
  },
  {
   "cell_type": "code",
   "execution_count": 58,
   "id": "e8fbfdc8",
   "metadata": {
    "ExecuteTime": {
     "end_time": "2021-05-17T07:45:37.758985Z",
     "start_time": "2021-05-17T07:45:37.740079Z"
    }
   },
   "outputs": [
    {
     "name": "stderr",
     "output_type": "stream",
     "text": [
      "<ipython-input-58-c0e923183ec2>:1: SettingWithCopyWarning: \n",
      "A value is trying to be set on a copy of a slice from a DataFrame\n",
      "\n",
      "See the caveats in the documentation: https://pandas.pydata.org/pandas-docs/stable/user_guide/indexing.html#returning-a-view-versus-a-copy\n",
      "  df.department[df.department=='Not Known,'] = 'Not Known'\n",
      "<ipython-input-58-c0e923183ec2>:2: SettingWithCopyWarning: \n",
      "A value is trying to be set on a copy of a slice from a DataFrame\n",
      "\n",
      "See the caveats in the documentation: https://pandas.pydata.org/pandas-docs/stable/user_guide/indexing.html#returning-a-view-versus-a-copy\n",
      "  df.department[df.department=='missing'] = 'Not Known'\n"
     ]
    }
   ],
   "source": [
    "df.department[df.department=='Not Known,'] = 'Not Known'\n",
    "df.department[df.department=='missing'] = 'Not Known'"
   ]
  },
  {
   "cell_type": "markdown",
   "id": "955e1ba8",
   "metadata": {},
   "source": [
    "<b><p style=\"font-size:20px\">Correct levels of `area_of_study`</p></b>"
   ]
  },
  {
   "cell_type": "code",
   "execution_count": 61,
   "id": "d2151061",
   "metadata": {
    "ExecuteTime": {
     "end_time": "2021-05-17T07:46:21.457423Z",
     "start_time": "2021-05-17T07:46:21.439758Z"
    }
   },
   "outputs": [
    {
     "name": "stderr",
     "output_type": "stream",
     "text": [
      "<ipython-input-61-5474e00644fa>:1: SettingWithCopyWarning: \n",
      "A value is trying to be set on a copy of a slice from a DataFrame\n",
      "\n",
      "See the caveats in the documentation: https://pandas.pydata.org/pandas-docs/stable/user_guide/indexing.html#returning-a-view-versus-a-copy\n",
      "  df.area_of_study[df.area_of_study=='Not Known,'] = 'Not Known'\n",
      "<ipython-input-61-5474e00644fa>:2: SettingWithCopyWarning: \n",
      "A value is trying to be set on a copy of a slice from a DataFrame\n",
      "\n",
      "See the caveats in the documentation: https://pandas.pydata.org/pandas-docs/stable/user_guide/indexing.html#returning-a-view-versus-a-copy\n",
      "  df.area_of_study[df.area_of_study=='missing'] = 'Not Known'\n"
     ]
    }
   ],
   "source": [
    "df.area_of_study[df.area_of_study=='Not Known,'] = 'Not Known'\n",
    "df.area_of_study[df.area_of_study=='missing'] = 'Not Known'"
   ]
  },
  {
   "cell_type": "markdown",
   "id": "cce53d9a",
   "metadata": {},
   "source": [
    "# Split the data"
   ]
  },
  {
   "cell_type": "code",
   "execution_count": 116,
   "id": "e5e99336",
   "metadata": {
    "ExecuteTime": {
     "end_time": "2021-05-17T08:16:48.166158Z",
     "start_time": "2021-05-17T08:16:48.153958Z"
    }
   },
   "outputs": [],
   "source": [
    "df.drop(['admission_status', 'otp_verification'], axis=1, inplace=True)"
   ]
  },
  {
   "cell_type": "code",
   "execution_count": 117,
   "id": "fd24d479",
   "metadata": {
    "ExecuteTime": {
     "end_time": "2021-05-17T08:16:50.473968Z",
     "start_time": "2021-05-17T08:16:50.470266Z"
    }
   },
   "outputs": [],
   "source": [
    "numeric_cols = ['no_email_sent', 'no_sms_sent', 'total_calls']\n",
    "categorical_cols = ['entry_month', 'source', 'fee_range', 'state', 'area_of_study', 'department']\n",
    "target_col = 'admission_flag'\n",
    "non_target_cols = [i for i in df.columns if i!=target_col]"
   ]
  },
  {
   "cell_type": "code",
   "execution_count": 77,
   "id": "73c8f9a4",
   "metadata": {
    "ExecuteTime": {
     "end_time": "2021-05-17T07:49:29.170925Z",
     "start_time": "2021-05-17T07:49:29.158037Z"
    }
   },
   "outputs": [
    {
     "data": {
      "text/plain": [
       "Business/Management         30069\n",
       "Engineering                 18400\n",
       "Sciences and Mathematics    10235\n",
       "Computer Application         6477\n",
       "Journalism                   5290\n",
       "Nursing                      3803\n",
       "Hospitality                  1101\n",
       "Fashion Design                774\n",
       "Not Known                      22\n",
       "Name: area_of_study, dtype: int64"
      ]
     },
     "execution_count": 77,
     "metadata": {},
     "output_type": "execute_result"
    }
   ],
   "source": [
    "i = 4\n",
    "cat_col = categorical_cols[i]\n",
    "df[cat_col].value_counts()\n"
   ]
  },
  {
   "cell_type": "code",
   "execution_count": 118,
   "id": "22c967fe",
   "metadata": {
    "ExecuteTime": {
     "end_time": "2021-05-17T08:16:56.110909Z",
     "start_time": "2021-05-17T08:16:56.046711Z"
    }
   },
   "outputs": [],
   "source": [
    "from sklearn.model_selection import train_test_split\n",
    "X_train, X_test, y_train, y_test = train_test_split(df[non_target_cols], df[target_col], \n",
    "                                                    test_size=0.30, random_state=42, stratify=df[target_col])"
   ]
  },
  {
   "cell_type": "code",
   "execution_count": 119,
   "id": "8c194398",
   "metadata": {
    "ExecuteTime": {
     "end_time": "2021-05-17T08:16:56.673194Z",
     "start_time": "2021-05-17T08:16:56.669672Z"
    }
   },
   "outputs": [
    {
     "name": "stdout",
     "output_type": "stream",
     "text": [
      "rows in train set: 53319\n",
      "rows in test set : 22852\n"
     ]
    }
   ],
   "source": [
    "print('rows in train set: {0: >4}'.format( X_train.shape[0]))\n",
    "print('rows in test set : {0: >4}'.format( X_test.shape[0]))"
   ]
  },
  {
   "cell_type": "markdown",
   "id": "24de0a43",
   "metadata": {},
   "source": [
    "# Encode Categorical Data"
   ]
  },
  {
   "cell_type": "code",
   "execution_count": 120,
   "id": "c409b98e",
   "metadata": {
    "ExecuteTime": {
     "end_time": "2021-05-17T08:16:58.997284Z",
     "start_time": "2021-05-17T08:16:58.619569Z"
    }
   },
   "outputs": [],
   "source": [
    "import category_encoders as ce\n",
    "encoder = ce.TargetEncoder(cols=categorical_cols)\n",
    "\n",
    "encoder.fit(X_train, y_train)\n",
    "X_train = encoder.transform(X_train)\n",
    "X_test  = encoder.transform(X_test)\n"
   ]
  },
  {
   "cell_type": "code",
   "execution_count": 121,
   "id": "f690daf4",
   "metadata": {
    "ExecuteTime": {
     "end_time": "2021-05-17T08:16:59.851194Z",
     "start_time": "2021-05-17T08:16:59.834612Z"
    }
   },
   "outputs": [
    {
     "data": {
      "text/html": [
       "<div>\n",
       "<style scoped>\n",
       "    .dataframe tbody tr th:only-of-type {\n",
       "        vertical-align: middle;\n",
       "    }\n",
       "\n",
       "    .dataframe tbody tr th {\n",
       "        vertical-align: top;\n",
       "    }\n",
       "\n",
       "    .dataframe thead th {\n",
       "        text-align: right;\n",
       "    }\n",
       "</style>\n",
       "<table border=\"1\" class=\"dataframe\">\n",
       "  <thead>\n",
       "    <tr style=\"text-align: right;\">\n",
       "      <th></th>\n",
       "      <th>student_id</th>\n",
       "      <th>student_name</th>\n",
       "      <th>entry_date</th>\n",
       "      <th>last_activity_date</th>\n",
       "      <th>latest_response</th>\n",
       "      <th>department</th>\n",
       "      <th>area_of_study</th>\n",
       "      <th>no_email_sent</th>\n",
       "      <th>no_sms_sent</th>\n",
       "      <th>total_calls</th>\n",
       "      <th>state</th>\n",
       "      <th>fee_range</th>\n",
       "      <th>source</th>\n",
       "      <th>entry_month</th>\n",
       "    </tr>\n",
       "  </thead>\n",
       "  <tbody>\n",
       "    <tr>\n",
       "      <th>72241</th>\n",
       "      <td>72242</td>\n",
       "      <td>Shreedhar G H</td>\n",
       "      <td>2020-08-25 21:50:00</td>\n",
       "      <td>25-08-2020 21:50</td>\n",
       "      <td>Admit in Other College</td>\n",
       "      <td>0.251021</td>\n",
       "      <td>0.251021</td>\n",
       "      <td>1</td>\n",
       "      <td>1</td>\n",
       "      <td>3</td>\n",
       "      <td>0.189225</td>\n",
       "      <td>0.189465</td>\n",
       "      <td>0.25678</td>\n",
       "      <td>0.236273</td>\n",
       "    </tr>\n",
       "    <tr>\n",
       "      <th>87032</th>\n",
       "      <td>87033</td>\n",
       "      <td>Prasatwika N</td>\n",
       "      <td>2020-09-30 08:32:00</td>\n",
       "      <td>30-09-2020 08:32</td>\n",
       "      <td>Not Interested</td>\n",
       "      <td>0.355687</td>\n",
       "      <td>0.258448</td>\n",
       "      <td>1</td>\n",
       "      <td>1</td>\n",
       "      <td>3</td>\n",
       "      <td>0.035115</td>\n",
       "      <td>0.189465</td>\n",
       "      <td>0.25678</td>\n",
       "      <td>0.174253</td>\n",
       "    </tr>\n",
       "    <tr>\n",
       "      <th>53344</th>\n",
       "      <td>53345</td>\n",
       "      <td>Bhavana</td>\n",
       "      <td>2020-05-09 13:59:00</td>\n",
       "      <td>05-09-2020 13:59</td>\n",
       "      <td>Call Disconnected</td>\n",
       "      <td>0.321534</td>\n",
       "      <td>0.258448</td>\n",
       "      <td>0</td>\n",
       "      <td>0</td>\n",
       "      <td>18</td>\n",
       "      <td>0.496403</td>\n",
       "      <td>0.189465</td>\n",
       "      <td>0.25678</td>\n",
       "      <td>0.424291</td>\n",
       "    </tr>\n",
       "    <tr>\n",
       "      <th>50596</th>\n",
       "      <td>50597</td>\n",
       "      <td>Aachi</td>\n",
       "      <td>2020-02-08 16:18:00</td>\n",
       "      <td>02-08-2020 16:28</td>\n",
       "      <td>Call Disconnected</td>\n",
       "      <td>0.244726</td>\n",
       "      <td>0.244726</td>\n",
       "      <td>1</td>\n",
       "      <td>1</td>\n",
       "      <td>5</td>\n",
       "      <td>0.496403</td>\n",
       "      <td>0.586385</td>\n",
       "      <td>0.25678</td>\n",
       "      <td>0.180548</td>\n",
       "    </tr>\n",
       "    <tr>\n",
       "      <th>57954</th>\n",
       "      <td>57955</td>\n",
       "      <td>Hemanth K H</td>\n",
       "      <td>2020-08-25 21:58:00</td>\n",
       "      <td>25-08-2020 21:58</td>\n",
       "      <td>Admit in Other College</td>\n",
       "      <td>0.302257</td>\n",
       "      <td>0.226146</td>\n",
       "      <td>1</td>\n",
       "      <td>1</td>\n",
       "      <td>3</td>\n",
       "      <td>0.120133</td>\n",
       "      <td>0.189465</td>\n",
       "      <td>0.25678</td>\n",
       "      <td>0.236273</td>\n",
       "    </tr>\n",
       "  </tbody>\n",
       "</table>\n",
       "</div>"
      ],
      "text/plain": [
       "       student_id   student_name          entry_date last_activity_date  \\\n",
       "72241       72242  Shreedhar G H 2020-08-25 21:50:00   25-08-2020 21:50   \n",
       "87032       87033   Prasatwika N 2020-09-30 08:32:00   30-09-2020 08:32   \n",
       "53344       53345        Bhavana 2020-05-09 13:59:00   05-09-2020 13:59   \n",
       "50596       50597          Aachi 2020-02-08 16:18:00   02-08-2020 16:28   \n",
       "57954       57955    Hemanth K H 2020-08-25 21:58:00   25-08-2020 21:58   \n",
       "\n",
       "              latest_response  department  area_of_study  no_email_sent  \\\n",
       "72241  Admit in Other College    0.251021       0.251021              1   \n",
       "87032          Not Interested    0.355687       0.258448              1   \n",
       "53344       Call Disconnected    0.321534       0.258448              0   \n",
       "50596       Call Disconnected    0.244726       0.244726              1   \n",
       "57954  Admit in Other College    0.302257       0.226146              1   \n",
       "\n",
       "       no_sms_sent  total_calls     state  fee_range   source  entry_month  \n",
       "72241            1            3  0.189225   0.189465  0.25678     0.236273  \n",
       "87032            1            3  0.035115   0.189465  0.25678     0.174253  \n",
       "53344            0           18  0.496403   0.189465  0.25678     0.424291  \n",
       "50596            1            5  0.496403   0.586385  0.25678     0.180548  \n",
       "57954            1            3  0.120133   0.189465  0.25678     0.236273  "
      ]
     },
     "execution_count": 121,
     "metadata": {},
     "output_type": "execute_result"
    }
   ],
   "source": [
    "X_train.head()"
   ]
  },
  {
   "cell_type": "markdown",
   "id": "e8081874",
   "metadata": {},
   "source": [
    "# Standard Scale"
   ]
  },
  {
   "cell_type": "code",
   "execution_count": 138,
   "id": "7f636749",
   "metadata": {
    "ExecuteTime": {
     "end_time": "2021-05-17T08:49:37.276729Z",
     "start_time": "2021-05-17T08:49:37.223234Z"
    }
   },
   "outputs": [],
   "source": [
    "from sklearn.preprocessing import StandardScaler\n",
    "ss = StandardScaler()\n",
    "ss.fit(X_train[numeric_cols])\n",
    "X_train.loc[:, numeric_cols] = ss.transform(X_train[numeric_cols])\n",
    "X_test.loc[:, numeric_cols] = ss.transform(X_test[numeric_cols])"
   ]
  },
  {
   "cell_type": "markdown",
   "id": "1011a49f",
   "metadata": {},
   "source": [
    "# Models"
   ]
  },
  {
   "cell_type": "code",
   "execution_count": 139,
   "id": "982dc090",
   "metadata": {
    "ExecuteTime": {
     "end_time": "2021-05-17T08:49:38.666400Z",
     "start_time": "2021-05-17T08:49:38.664006Z"
    }
   },
   "outputs": [],
   "source": [
    "model_cols = ['no_email_sent', 'no_sms_sent', 'total_calls'] + ['entry_month', 'source', 'fee_range', 'state', 'area_of_study', 'department']\n"
   ]
  },
  {
   "cell_type": "markdown",
   "id": "a5941db8",
   "metadata": {},
   "source": [
    "## Linear Model"
   ]
  },
  {
   "cell_type": "code",
   "execution_count": 140,
   "id": "9b273273",
   "metadata": {
    "ExecuteTime": {
     "end_time": "2021-05-17T08:49:40.211665Z",
     "start_time": "2021-05-17T08:49:39.897632Z"
    }
   },
   "outputs": [
    {
     "data": {
      "text/plain": [
       "LogisticRegression(random_state=42)"
      ]
     },
     "execution_count": 140,
     "metadata": {},
     "output_type": "execute_result"
    }
   ],
   "source": [
    "from sklearn.linear_model import LogisticRegression\n",
    "lr = LogisticRegression(random_state=42)\n",
    "lr.fit(X_train[model_cols], y_train)"
   ]
  },
  {
   "cell_type": "code",
   "execution_count": 141,
   "id": "1db671ba",
   "metadata": {
    "ExecuteTime": {
     "end_time": "2021-05-17T08:49:44.023983Z",
     "start_time": "2021-05-17T08:49:44.009564Z"
    }
   },
   "outputs": [],
   "source": [
    "from sklearn.metrics import accuracy_score\n",
    "tr_predicts = lr.predict(X_train[model_cols])\n",
    "te_predicts = lr.predict( X_test[model_cols])"
   ]
  },
  {
   "cell_type": "code",
   "execution_count": 142,
   "id": "60fa805d",
   "metadata": {
    "ExecuteTime": {
     "end_time": "2021-05-17T08:49:44.552058Z",
     "start_time": "2021-05-17T08:49:44.540687Z"
    }
   },
   "outputs": [
    {
     "name": "stdout",
     "output_type": "stream",
     "text": [
      "0.750539207411992\n",
      "0.746542972168738\n"
     ]
    }
   ],
   "source": [
    "print(accuracy_score(y_train, tr_predicts))\n",
    "print(accuracy_score(y_test,  te_predicts))"
   ]
  },
  {
   "cell_type": "code",
   "execution_count": 143,
   "id": "7ca29d71",
   "metadata": {
    "ExecuteTime": {
     "end_time": "2021-05-17T08:49:46.542938Z",
     "start_time": "2021-05-17T08:49:46.534027Z"
    }
   },
   "outputs": [
    {
     "data": {
      "text/html": [
       "<div>\n",
       "<style scoped>\n",
       "    .dataframe tbody tr th:only-of-type {\n",
       "        vertical-align: middle;\n",
       "    }\n",
       "\n",
       "    .dataframe tbody tr th {\n",
       "        vertical-align: top;\n",
       "    }\n",
       "\n",
       "    .dataframe thead th {\n",
       "        text-align: right;\n",
       "    }\n",
       "</style>\n",
       "<table border=\"1\" class=\"dataframe\">\n",
       "  <thead>\n",
       "    <tr style=\"text-align: right;\">\n",
       "      <th></th>\n",
       "      <th>feature</th>\n",
       "      <th>coefficient</th>\n",
       "    </tr>\n",
       "  </thead>\n",
       "  <tbody>\n",
       "    <tr>\n",
       "      <th>0</th>\n",
       "      <td>no_email_sent</td>\n",
       "      <td>-1.21675</td>\n",
       "    </tr>\n",
       "    <tr>\n",
       "      <th>1</th>\n",
       "      <td>area_of_study</td>\n",
       "      <td>-0.493144</td>\n",
       "    </tr>\n",
       "    <tr>\n",
       "      <th>2</th>\n",
       "      <td>total_calls</td>\n",
       "      <td>-0.035182</td>\n",
       "    </tr>\n",
       "    <tr>\n",
       "      <th>3</th>\n",
       "      <td>no_sms_sent</td>\n",
       "      <td>1.45377</td>\n",
       "    </tr>\n",
       "    <tr>\n",
       "      <th>4</th>\n",
       "      <td>entry_month</td>\n",
       "      <td>2.58429</td>\n",
       "    </tr>\n",
       "    <tr>\n",
       "      <th>5</th>\n",
       "      <td>fee_range</td>\n",
       "      <td>3.01604</td>\n",
       "    </tr>\n",
       "    <tr>\n",
       "      <th>6</th>\n",
       "      <td>department</td>\n",
       "      <td>4.44647</td>\n",
       "    </tr>\n",
       "    <tr>\n",
       "      <th>7</th>\n",
       "      <td>state</td>\n",
       "      <td>4.6378</td>\n",
       "    </tr>\n",
       "    <tr>\n",
       "      <th>8</th>\n",
       "      <td>source</td>\n",
       "      <td>4.8361</td>\n",
       "    </tr>\n",
       "  </tbody>\n",
       "</table>\n",
       "</div>"
      ],
      "text/plain": [
       "         feature coefficient\n",
       "0  no_email_sent    -1.21675\n",
       "1  area_of_study   -0.493144\n",
       "2    total_calls   -0.035182\n",
       "3    no_sms_sent     1.45377\n",
       "4    entry_month     2.58429\n",
       "5      fee_range     3.01604\n",
       "6     department     4.44647\n",
       "7          state      4.6378\n",
       "8         source      4.8361"
      ]
     },
     "execution_count": 143,
     "metadata": {},
     "output_type": "execute_result"
    }
   ],
   "source": [
    "ft_imp = pd.DataFrame([model_cols, *lr.coef_]).transpose()\n",
    "ft_imp.columns = ['feature', 'coefficient']\n",
    "ft_imp.sort_values('coefficient', inplace=True)\n",
    "ft_imp.reset_index(drop=True, inplace=True)\n",
    "ft_imp.head(10)"
   ]
  },
  {
   "cell_type": "markdown",
   "id": "c16eb071",
   "metadata": {},
   "source": [
    "### Get p values"
   ]
  },
  {
   "cell_type": "code",
   "execution_count": 157,
   "id": "8c97de5b",
   "metadata": {
    "ExecuteTime": {
     "end_time": "2021-05-17T08:57:52.834159Z",
     "start_time": "2021-05-17T08:57:52.726513Z"
    }
   },
   "outputs": [
    {
     "name": "stdout",
     "output_type": "stream",
     "text": [
      "Optimization terminated successfully.\n",
      "         Current function value: 0.491215\n",
      "         Iterations 6\n"
     ]
    }
   ],
   "source": [
    "import numpy as np\n",
    "import statsmodels.api as sm\n",
    "x_tr = sm.add_constant(X_train[model_cols])\n",
    "x_te = sm.add_constant(X_test[model_cols])\n",
    "\n",
    "model = sm.Logit(y_train, x_tr)\n",
    "result = model.fit(method='newton')"
   ]
  },
  {
   "cell_type": "code",
   "execution_count": 158,
   "id": "d2b1f118",
   "metadata": {
    "ExecuteTime": {
     "end_time": "2021-05-17T08:58:03.293067Z",
     "start_time": "2021-05-17T08:58:03.164368Z"
    },
    "scrolled": true
   },
   "outputs": [
    {
     "data": {
      "text/html": [
       "<table class=\"simpletable\">\n",
       "<caption>Logit Regression Results</caption>\n",
       "<tr>\n",
       "  <th>Dep. Variable:</th>    <td>admission_flag</td>  <th>  No. Observations:  </th>  <td> 53319</td> \n",
       "</tr>\n",
       "<tr>\n",
       "  <th>Model:</th>                 <td>Logit</td>      <th>  Df Residuals:      </th>  <td> 53309</td> \n",
       "</tr>\n",
       "<tr>\n",
       "  <th>Method:</th>                 <td>MLE</td>       <th>  Df Model:          </th>  <td>     9</td> \n",
       "</tr>\n",
       "<tr>\n",
       "  <th>Date:</th>            <td>Mon, 17 May 2021</td> <th>  Pseudo R-squ.:     </th>  <td>0.1528</td> \n",
       "</tr>\n",
       "<tr>\n",
       "  <th>Time:</th>                <td>14:28:03</td>     <th>  Log-Likelihood:    </th> <td> -26191.</td>\n",
       "</tr>\n",
       "<tr>\n",
       "  <th>converged:</th>             <td>True</td>       <th>  LL-Null:           </th> <td> -30916.</td>\n",
       "</tr>\n",
       "<tr>\n",
       "  <th>Covariance Type:</th>     <td>nonrobust</td>    <th>  LLR p-value:       </th>  <td> 0.000</td> \n",
       "</tr>\n",
       "</table>\n",
       "<table class=\"simpletable\">\n",
       "<tr>\n",
       "        <td></td>           <th>coef</th>     <th>std err</th>      <th>z</th>      <th>P>|z|</th>  <th>[0.025</th>    <th>0.975]</th>  \n",
       "</tr>\n",
       "<tr>\n",
       "  <th>const</th>         <td>   -6.4064</td> <td>    0.141</td> <td>  -45.391</td> <td> 0.000</td> <td>   -6.683</td> <td>   -6.130</td>\n",
       "</tr>\n",
       "<tr>\n",
       "  <th>no_email_sent</th> <td>   -1.2199</td> <td>    0.063</td> <td>  -19.474</td> <td> 0.000</td> <td>   -1.343</td> <td>   -1.097</td>\n",
       "</tr>\n",
       "<tr>\n",
       "  <th>no_sms_sent</th>   <td>    1.4577</td> <td>    0.071</td> <td>   20.575</td> <td> 0.000</td> <td>    1.319</td> <td>    1.597</td>\n",
       "</tr>\n",
       "<tr>\n",
       "  <th>total_calls</th>   <td>   -0.0353</td> <td>    0.011</td> <td>   -3.178</td> <td> 0.001</td> <td>   -0.057</td> <td>   -0.014</td>\n",
       "</tr>\n",
       "<tr>\n",
       "  <th>entry_month</th>   <td>    2.6113</td> <td>    0.129</td> <td>   20.305</td> <td> 0.000</td> <td>    2.359</td> <td>    2.863</td>\n",
       "</tr>\n",
       "<tr>\n",
       "  <th>source</th>        <td>    5.1670</td> <td>    0.256</td> <td>   20.177</td> <td> 0.000</td> <td>    4.665</td> <td>    5.669</td>\n",
       "</tr>\n",
       "<tr>\n",
       "  <th>fee_range</th>     <td>    3.0538</td> <td>    0.118</td> <td>   25.928</td> <td> 0.000</td> <td>    2.823</td> <td>    3.285</td>\n",
       "</tr>\n",
       "<tr>\n",
       "  <th>state</th>         <td>    4.6644</td> <td>    0.080</td> <td>   58.082</td> <td> 0.000</td> <td>    4.507</td> <td>    4.822</td>\n",
       "</tr>\n",
       "<tr>\n",
       "  <th>area_of_study</th> <td>   -0.8467</td> <td>    0.469</td> <td>   -1.807</td> <td> 0.071</td> <td>   -1.765</td> <td>    0.072</td>\n",
       "</tr>\n",
       "<tr>\n",
       "  <th>department</th>    <td>    4.7537</td> <td>    0.250</td> <td>   19.022</td> <td> 0.000</td> <td>    4.264</td> <td>    5.244</td>\n",
       "</tr>\n",
       "</table>"
      ],
      "text/plain": [
       "<class 'statsmodels.iolib.summary.Summary'>\n",
       "\"\"\"\n",
       "                           Logit Regression Results                           \n",
       "==============================================================================\n",
       "Dep. Variable:         admission_flag   No. Observations:                53319\n",
       "Model:                          Logit   Df Residuals:                    53309\n",
       "Method:                           MLE   Df Model:                            9\n",
       "Date:                Mon, 17 May 2021   Pseudo R-squ.:                  0.1528\n",
       "Time:                        14:28:03   Log-Likelihood:                -26191.\n",
       "converged:                       True   LL-Null:                       -30916.\n",
       "Covariance Type:            nonrobust   LLR p-value:                     0.000\n",
       "=================================================================================\n",
       "                    coef    std err          z      P>|z|      [0.025      0.975]\n",
       "---------------------------------------------------------------------------------\n",
       "const            -6.4064      0.141    -45.391      0.000      -6.683      -6.130\n",
       "no_email_sent    -1.2199      0.063    -19.474      0.000      -1.343      -1.097\n",
       "no_sms_sent       1.4577      0.071     20.575      0.000       1.319       1.597\n",
       "total_calls      -0.0353      0.011     -3.178      0.001      -0.057      -0.014\n",
       "entry_month       2.6113      0.129     20.305      0.000       2.359       2.863\n",
       "source            5.1670      0.256     20.177      0.000       4.665       5.669\n",
       "fee_range         3.0538      0.118     25.928      0.000       2.823       3.285\n",
       "state             4.6644      0.080     58.082      0.000       4.507       4.822\n",
       "area_of_study    -0.8467      0.469     -1.807      0.071      -1.765       0.072\n",
       "department        4.7537      0.250     19.022      0.000       4.264       5.244\n",
       "=================================================================================\n",
       "\"\"\""
      ]
     },
     "execution_count": 158,
     "metadata": {},
     "output_type": "execute_result"
    }
   ],
   "source": [
    "result.summary()"
   ]
  },
  {
   "cell_type": "markdown",
   "id": "69d772ec",
   "metadata": {},
   "source": [
    "## CatboostBoost"
   ]
  },
  {
   "cell_type": "markdown",
   "id": "b49e2746",
   "metadata": {},
   "source": [
    "### fit model"
   ]
  },
  {
   "cell_type": "code",
   "execution_count": 177,
   "id": "1d9a2c9b",
   "metadata": {
    "ExecuteTime": {
     "end_time": "2021-05-17T09:07:06.299552Z",
     "start_time": "2021-05-17T09:07:06.296649Z"
    }
   },
   "outputs": [],
   "source": [
    "from catboost import CatBoostClassifier\n",
    "cbc = CatBoostClassifier(random_seed=42, metric_period=200)"
   ]
  },
  {
   "cell_type": "code",
   "execution_count": 178,
   "id": "f507d04a",
   "metadata": {
    "ExecuteTime": {
     "end_time": "2021-05-17T09:07:18.327065Z",
     "start_time": "2021-05-17T09:07:06.695308Z"
    }
   },
   "outputs": [
    {
     "name": "stdout",
     "output_type": "stream",
     "text": [
      "Learning rate set to 0.056275\n",
      "0:\tlearn: 0.6656044\ttotal: 13.3ms\tremaining: 13.3s\n",
      "200:\tlearn: 0.4042671\ttotal: 1.54s\tremaining: 6.14s\n",
      "400:\tlearn: 0.3944790\ttotal: 3.43s\tremaining: 5.13s\n",
      "600:\tlearn: 0.3887798\ttotal: 6.08s\tremaining: 4.04s\n",
      "800:\tlearn: 0.3843239\ttotal: 9.47s\tremaining: 2.35s\n",
      "999:\tlearn: 0.3805846\ttotal: 11.4s\tremaining: 0us\n"
     ]
    },
    {
     "data": {
      "text/plain": [
       "<catboost.core.CatBoostClassifier at 0x1436b9a30>"
      ]
     },
     "execution_count": 178,
     "metadata": {},
     "output_type": "execute_result"
    }
   ],
   "source": [
    "cbc.fit(X_train[model_cols], y_train)"
   ]
  },
  {
   "cell_type": "code",
   "execution_count": 179,
   "id": "41e21f91",
   "metadata": {
    "ExecuteTime": {
     "end_time": "2021-05-17T09:07:18.379456Z",
     "start_time": "2021-05-17T09:07:18.328851Z"
    }
   },
   "outputs": [],
   "source": [
    "cbc_tr_predicts = cbc.predict(X_train[model_cols])\n",
    "cbc_te_predicts = cbc.predict(X_test[model_cols])"
   ]
  },
  {
   "cell_type": "markdown",
   "id": "5d414ae2",
   "metadata": {},
   "source": [
    "### Model evaluation"
   ]
  },
  {
   "cell_type": "code",
   "execution_count": 180,
   "id": "6290465a",
   "metadata": {
    "ExecuteTime": {
     "end_time": "2021-05-17T09:07:18.395486Z",
     "start_time": "2021-05-17T09:07:18.383182Z"
    }
   },
   "outputs": [
    {
     "name": "stdout",
     "output_type": "stream",
     "text": [
      "0.8189575948536169\n",
      "0.8054437248380886\n"
     ]
    }
   ],
   "source": [
    "from sklearn.metrics import accuracy_score\n",
    "print(accuracy_score(y_train, cbc_tr_predicts))\n",
    "print(accuracy_score(y_test, cbc_te_predicts))"
   ]
  },
  {
   "cell_type": "markdown",
   "id": "a218bbec",
   "metadata": {},
   "source": [
    "### feature importance"
   ]
  },
  {
   "cell_type": "code",
   "execution_count": 185,
   "id": "a2d68c98",
   "metadata": {
    "ExecuteTime": {
     "end_time": "2021-05-17T09:11:50.678612Z",
     "start_time": "2021-05-17T09:11:50.653716Z"
    }
   },
   "outputs": [
    {
     "data": {
      "text/html": [
       "<div>\n",
       "<style scoped>\n",
       "    .dataframe tbody tr th:only-of-type {\n",
       "        vertical-align: middle;\n",
       "    }\n",
       "\n",
       "    .dataframe tbody tr th {\n",
       "        vertical-align: top;\n",
       "    }\n",
       "\n",
       "    .dataframe thead th {\n",
       "        text-align: right;\n",
       "    }\n",
       "</style>\n",
       "<table border=\"1\" class=\"dataframe\">\n",
       "  <thead>\n",
       "    <tr style=\"text-align: right;\">\n",
       "      <th></th>\n",
       "      <th>feature</th>\n",
       "      <th>ft_imp</th>\n",
       "    </tr>\n",
       "  </thead>\n",
       "  <tbody>\n",
       "    <tr>\n",
       "      <th>0</th>\n",
       "      <td>state</td>\n",
       "      <td>33.7991</td>\n",
       "    </tr>\n",
       "    <tr>\n",
       "      <th>1</th>\n",
       "      <td>fee_range</td>\n",
       "      <td>26.1136</td>\n",
       "    </tr>\n",
       "    <tr>\n",
       "      <th>2</th>\n",
       "      <td>department</td>\n",
       "      <td>11.2857</td>\n",
       "    </tr>\n",
       "    <tr>\n",
       "      <th>3</th>\n",
       "      <td>entry_month</td>\n",
       "      <td>8.77979</td>\n",
       "    </tr>\n",
       "    <tr>\n",
       "      <th>4</th>\n",
       "      <td>no_email_sent</td>\n",
       "      <td>7.77059</td>\n",
       "    </tr>\n",
       "  </tbody>\n",
       "</table>\n",
       "</div>"
      ],
      "text/plain": [
       "         feature   ft_imp\n",
       "0          state  33.7991\n",
       "1      fee_range  26.1136\n",
       "2     department  11.2857\n",
       "3    entry_month  8.77979\n",
       "4  no_email_sent  7.77059"
      ]
     },
     "execution_count": 185,
     "metadata": {},
     "output_type": "execute_result"
    }
   ],
   "source": [
    "cbc_ft_imp = pd.DataFrame([model_cols, cbc.get_feature_importance()]).transpose()\n",
    "cbc_ft_imp.columns = ['feature', 'ft_imp']\n",
    "cbc_ft_imp.sort_values('ft_imp', inplace=True, ascending=False)\n",
    "cbc_ft_imp.reset_index(drop=True, inplace=True)\n",
    "cbc_ft_imp.head()"
   ]
  },
  {
   "cell_type": "code",
   "execution_count": null,
   "id": "0d95b7cc",
   "metadata": {},
   "outputs": [],
   "source": []
  }
 ],
 "metadata": {
  "kernelspec": {
   "display_name": "Python 3",
   "language": "python",
   "name": "python3"
  },
  "language_info": {
   "codemirror_mode": {
    "name": "ipython",
    "version": 3
   },
   "file_extension": ".py",
   "mimetype": "text/x-python",
   "name": "python",
   "nbconvert_exporter": "python",
   "pygments_lexer": "ipython3",
   "version": "3.8.3"
  },
  "toc": {
   "base_numbering": 1,
   "nav_menu": {},
   "number_sections": true,
   "sideBar": true,
   "skip_h1_title": false,
   "title_cell": "Table of Contents",
   "title_sidebar": "Contents",
   "toc_cell": false,
   "toc_position": {},
   "toc_section_display": true,
   "toc_window_display": true
  }
 },
 "nbformat": 4,
 "nbformat_minor": 5
}
